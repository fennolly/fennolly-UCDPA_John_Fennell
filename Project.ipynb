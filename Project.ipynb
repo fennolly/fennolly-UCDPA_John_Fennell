{
 "cells": [
  {
   "cell_type": "code",
   "execution_count": 32,
   "metadata": {},
   "outputs": [],
   "source": [
    "import pandas as pd\n",
    "import numpy as np\n",
    "import requests\n",
    "import matplotlib as plt\n",
    "import seaborn as sns\n",
    "from bs4 import BeautifulSoup as bs\n",
    "from urllib.request import urlopen, Request"
   ]
  },
  {
   "cell_type": "code",
   "execution_count": 33,
   "metadata": {},
   "outputs": [
    {
     "name": "stdout",
     "output_type": "stream",
     "text": [
      "            Driver Average gap to team mate\n",
      "0   George Russell                  -0.371s\n",
      "1  Mick Schumacher                  -0.908s\n",
      "2     Pierre Gasly                  -0.603s\n",
      "3   Max Verstappen                  -0.528s\n",
      "4   Lewis Hamilton                  -0.347s\n"
     ]
    }
   ],
   "source": [
    "#importing the driver names and the gap between them and their team mates flat file\n",
    "quali = pd.read_csv('quali.csv')\n",
    "print(quali.head())"
   ]
  }
 ],
 "metadata": {
  "kernelspec": {
   "display_name": "Python 3.8.8 ('base')",
   "language": "python",
   "name": "python3"
  },
  "language_info": {
   "codemirror_mode": {
    "name": "ipython",
    "version": 3
   },
   "file_extension": ".py",
   "mimetype": "text/x-python",
   "name": "python",
   "nbconvert_exporter": "python",
   "pygments_lexer": "ipython3",
   "version": "3.8.8"
  },
  "orig_nbformat": 4,
  "vscode": {
   "interpreter": {
    "hash": "c71d912802ddfbc0b349813998b66910a1c7ae597921f591d545f2449f4fb1ac"
   }
  }
 },
 "nbformat": 4,
 "nbformat_minor": 2
}
