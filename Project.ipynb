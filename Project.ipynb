{
 "cells": [
  {
   "cell_type": "markdown",
   "metadata": {},
   "source": [
    "## import"
   ]
  },
  {
   "cell_type": "code",
   "execution_count": 357,
   "metadata": {},
   "outputs": [],
   "source": [
    "import pandas as pd\n",
    "import numpy as np\n",
    "import requests\n",
    "import matplotlib as plt\n",
    "import seaborn as sns\n",
    "from bs4 import BeautifulSoup as bs\n",
    "from urllib.request import urlopen, Request"
   ]
  },
  {
   "cell_type": "markdown",
   "metadata": {},
   "source": [
    "## import a csv data set\n"
   ]
  },
  {
   "cell_type": "code",
   "execution_count": 358,
   "metadata": {},
   "outputs": [
    {
     "name": "stdout",
     "output_type": "stream",
     "text": [
      "            Driver Average gap to team mate\n",
      "0   George Russell                  -0.371s\n",
      "1  Mick Schumacher                  -0.908s\n",
      "2     Pierre Gasly                  -0.603s\n",
      "3   Max Verstappen                  -0.528s\n",
      "4   Lewis Hamilton                  -0.347s\n"
     ]
    }
   ],
   "source": [
    "#importing table of driver names and the time difference between team mates\n",
    "quali = pd.read_csv('quali.csv')\n",
    "print(quali.head())"
   ]
  },
  {
   "cell_type": "markdown",
   "metadata": {},
   "source": [
    "### web scraping"
   ]
  },
  {
   "cell_type": "code",
   "execution_count": 359,
   "metadata": {},
   "outputs": [
    {
     "name": "stdout",
     "output_type": "stream",
     "text": [
      "['']\n",
      "['', 'Pos']\n",
      "['', 'Pos', 'Team']\n",
      "['', 'Pos', 'Team', 'PTS']\n",
      "['', 'Pos', 'Team', 'PTS', '']\n"
     ]
    }
   ],
   "source": [
    "\n",
    "\n",
    "# Create an URL object\n",
    "url = 'https://www.formula1.com/en/results.html/2021/team.html'\n",
    "# Create object page\n",
    "page = requests.get(url)\n",
    "\n",
    "# parser-lxml = Change html to Python friendly format\n",
    "\n",
    "soup = bs(page.text, 'lxml')\n",
    "soup\n",
    "\n",
    "# Obtain information from tag <table>\n",
    "table = soup.find('table', {'class':'resultsarchive-table'})\n",
    "\n",
    "headers = []\n",
    "for i in table.find_all('th'):  \n",
    "    title = i.text\n",
    "    headers.append(title)\n",
    "    print(headers)"
   ]
  },
  {
   "cell_type": "code",
   "execution_count": 360,
   "metadata": {},
   "outputs": [
    {
     "name": "stdout",
     "output_type": "stream",
     "text": [
      "    Pos      Team    PTS  \n",
      "0     1  Mercedes  613.5  \n",
      "    Pos                   Team    PTS  \n",
      "0     1               Mercedes  613.5  \n",
      "1     2  Red Bull Racing Honda  585.5  \n",
      "    Pos                   Team    PTS  \n",
      "0     1               Mercedes  613.5  \n",
      "1     2  Red Bull Racing Honda  585.5  \n",
      "2     3                Ferrari  323.5  \n",
      "    Pos                   Team    PTS  \n",
      "0     1               Mercedes  613.5  \n",
      "1     2  Red Bull Racing Honda  585.5  \n",
      "2     3                Ferrari  323.5  \n",
      "3     4       McLaren Mercedes    275  \n",
      "    Pos                   Team    PTS  \n",
      "0     1               Mercedes  613.5  \n",
      "1     2  Red Bull Racing Honda  585.5  \n",
      "2     3                Ferrari  323.5  \n",
      "3     4       McLaren Mercedes    275  \n",
      "4     5         Alpine Renault    155  \n",
      "    Pos                   Team    PTS  \n",
      "0     1               Mercedes  613.5  \n",
      "1     2  Red Bull Racing Honda  585.5  \n",
      "2     3                Ferrari  323.5  \n",
      "3     4       McLaren Mercedes    275  \n",
      "4     5         Alpine Renault    155  \n",
      "5     6       AlphaTauri Honda    142  \n",
      "    Pos                   Team    PTS  \n",
      "0     1               Mercedes  613.5  \n",
      "1     2  Red Bull Racing Honda  585.5  \n",
      "2     3                Ferrari  323.5  \n",
      "3     4       McLaren Mercedes    275  \n",
      "4     5         Alpine Renault    155  \n",
      "5     6       AlphaTauri Honda    142  \n",
      "6     7  Aston Martin Mercedes     77  \n",
      "    Pos                   Team    PTS  \n",
      "0     1               Mercedes  613.5  \n",
      "1     2  Red Bull Racing Honda  585.5  \n",
      "2     3                Ferrari  323.5  \n",
      "3     4       McLaren Mercedes    275  \n",
      "4     5         Alpine Renault    155  \n",
      "5     6       AlphaTauri Honda    142  \n",
      "6     7  Aston Martin Mercedes     77  \n",
      "7     8      Williams Mercedes     23  \n",
      "    Pos                       Team    PTS  \n",
      "0     1                   Mercedes  613.5  \n",
      "1     2      Red Bull Racing Honda  585.5  \n",
      "2     3                    Ferrari  323.5  \n",
      "3     4           McLaren Mercedes    275  \n",
      "4     5             Alpine Renault    155  \n",
      "5     6           AlphaTauri Honda    142  \n",
      "6     7      Aston Martin Mercedes     77  \n",
      "7     8          Williams Mercedes     23  \n",
      "8     9  Alfa Romeo Racing Ferrari     13  \n",
      "    Pos                       Team    PTS  \n",
      "0     1                   Mercedes  613.5  \n",
      "1     2      Red Bull Racing Honda  585.5  \n",
      "2     3                    Ferrari  323.5  \n",
      "3     4           McLaren Mercedes    275  \n",
      "4     5             Alpine Renault    155  \n",
      "5     6           AlphaTauri Honda    142  \n",
      "6     7      Aston Martin Mercedes     77  \n",
      "7     8          Williams Mercedes     23  \n",
      "8     9  Alfa Romeo Racing Ferrari     13  \n",
      "9    10               Haas Ferrari      0  \n"
     ]
    }
   ],
   "source": [
    "# Create a dataframe\n",
    "df = pd.DataFrame(columns = headers)\n",
    "\n",
    "for row in table.find_all('tr')[1:]:\n",
    "    data = row.find_all('td')\n",
    "    row_data = [td.text.strip() for td in data]\n",
    "    length = len(df)\n",
    "    df.loc[length] = row_data\n",
    "    print(df)\n",
    "    \n",
    "    "
   ]
  },
  {
   "cell_type": "code",
   "execution_count": null,
   "metadata": {},
   "outputs": [],
   "source": []
  }
 ],
 "metadata": {
  "kernelspec": {
   "display_name": "Python 3.8.8 ('base')",
   "language": "python",
   "name": "python3"
  },
  "language_info": {
   "codemirror_mode": {
    "name": "ipython",
    "version": 3
   },
   "file_extension": ".py",
   "mimetype": "text/x-python",
   "name": "python",
   "nbconvert_exporter": "python",
   "pygments_lexer": "ipython3",
   "version": "3.8.8"
  },
  "orig_nbformat": 4,
  "vscode": {
   "interpreter": {
    "hash": "c71d912802ddfbc0b349813998b66910a1c7ae597921f591d545f2449f4fb1ac"
   }
  }
 },
 "nbformat": 4,
 "nbformat_minor": 2
}
